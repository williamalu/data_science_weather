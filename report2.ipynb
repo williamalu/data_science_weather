{
 "cells": [
  {
   "cell_type": "markdown",
   "metadata": {
    "collapsed": true
   },
   "source": [
    "# Does it get warmer before it rains?\n",
    "\n",
    "#### More generally, does it get warmer before a precipitation event? Speculating about the weather has been a staple of small talk and human curiosity since the inception of the human race, and as a result, many weather \"myths\" exist.\n",
    "\n",
    "First, let's import data and necessary packages."
   ]
  },
  {
   "cell_type": "code",
   "execution_count": 1,
   "metadata": {
    "collapsed": false
   },
   "outputs": [
    {
     "name": "stderr",
     "output_type": "stream",
     "text": [
      "/home/william/anaconda3/lib/python3.5/site-packages/IPython/core/interactiveshell.py:2717: DtypeWarning: Columns (7,8,10,11,12,13,14,15,16,17,19,20,22,23,25,26,27,28,29,33,34,37,38,39,40,44,45,46,47,48,50,59,60,62,63,64,67,68,69,71,72,73,84,85,86,87) have mixed types. Specify dtype option on import or set low_memory=False.\n",
      "  interactivity=interactivity, compiler=compiler, result=result)\n"
     ]
    }
   ],
   "source": [
    "from __future__ import print_function, division\n",
    "\n",
    "import numpy as np\n",
    "import pandas as pd\n",
    "import matplotlib.pyplot as plt\n",
    "from matplotlib.pyplot import plot_date\n",
    "import seaborn as sns\n",
    "\n",
    "import datetime as dt\n",
    "from datetime import datetime\n",
    "from IPython.display import display\n",
    "\n",
    "# Make a date parsing function with the correct format\n",
    "dateparse = lambda x: pd.datetime.strptime(x, '%Y-%m-%d %H:%M')\n",
    "\n",
    "# Read the CSV while parsing the dates\n",
    "df = pd.read_csv(\"913023.csv\", parse_dates=['DATE'], date_parser=dateparse)"
   ]
  },
  {
   "cell_type": "code",
   "execution_count": 2,
   "metadata": {
    "collapsed": true
   },
   "outputs": [],
   "source": [
    "#Remove all columns except for STATION, DATE, DAILYAverageDryBulbTemp, DAILYPrecip\n",
    "\n",
    "stations = {'seattle': 'WBAN:24233', \n",
    "            'boston': 'WBAN:14739', \n",
    "            'lexington': 'WBAN:93820', \n",
    "            'san diego': 'WBAN:93107'}\n",
    "\n",
    "#Make a copy of the original DataFrame\n",
    "seatac_2015 = df.copy(deep=True)\n",
    "\n",
    "#Select rows of data for Seattle (WBAN:24233)\n",
    "seatac_2015 = df.loc[df['STATION'] == stations['seattle']]\n",
    "\n",
    "#Select columns with data we need\n",
    "seatac_2015 = seatac_2015[['STATION', 'DATE', 'DAILYAverageDryBulbTemp', 'DAILYPrecip']]"
   ]
  },
  {
   "cell_type": "code",
   "execution_count": null,
   "metadata": {
    "collapsed": true
   },
   "outputs": [],
   "source": []
  }
 ],
 "metadata": {
  "anaconda-cloud": {},
  "kernelspec": {
   "display_name": "Python [conda root]",
   "language": "python",
   "name": "conda-root-py"
  },
  "language_info": {
   "codemirror_mode": {
    "name": "ipython",
    "version": 3
   },
   "file_extension": ".py",
   "mimetype": "text/x-python",
   "name": "python",
   "nbconvert_exporter": "python",
   "pygments_lexer": "ipython3",
   "version": "3.5.2"
  }
 },
 "nbformat": 4,
 "nbformat_minor": 1
}
